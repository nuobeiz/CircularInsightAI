{
 "cells": [
  {
   "cell_type": "code",
   "execution_count": 1,
   "metadata": {},
   "outputs": [],
   "source": [
    "from openai import OpenAI\n",
    "import pandas as pd\n",
    "import numpy as np\n",
    "import os\n",
    "import json"
   ]
  },
  {
   "cell_type": "markdown",
   "metadata": {},
   "source": [
    "# Preprocess df"
   ]
  },
  {
   "cell_type": "code",
   "execution_count": 2,
   "metadata": {},
   "outputs": [
    {
     "data": {
      "text/html": [
       "<div>\n",
       "<style scoped>\n",
       "    .dataframe tbody tr th:only-of-type {\n",
       "        vertical-align: middle;\n",
       "    }\n",
       "\n",
       "    .dataframe tbody tr th {\n",
       "        vertical-align: top;\n",
       "    }\n",
       "\n",
       "    .dataframe thead th {\n",
       "        text-align: right;\n",
       "    }\n",
       "</style>\n",
       "<table border=\"1\" class=\"dataframe\">\n",
       "  <thead>\n",
       "    <tr style=\"text-align: right;\">\n",
       "      <th></th>\n",
       "      <th>problem</th>\n",
       "      <th>solution</th>\n",
       "      <th>relevance_problem</th>\n",
       "      <th>clarity_problem</th>\n",
       "      <th>suitability_solution</th>\n",
       "      <th>clarity_solution</th>\n",
       "    </tr>\n",
       "  </thead>\n",
       "  <tbody>\n",
       "    <tr>\n",
       "      <th>0</th>\n",
       "      <td>The production and disposal of electronic devi...</td>\n",
       "      <td>A Circular Economy solution to this problem in...</td>\n",
       "      <td>3.0</td>\n",
       "      <td>3.0</td>\n",
       "      <td>3.0</td>\n",
       "      <td>3.0</td>\n",
       "    </tr>\n",
       "    <tr>\n",
       "      <th>1</th>\n",
       "      <td>Single-use plastic packaging is one of the lar...</td>\n",
       "      <td>My solution is to replace single-use plastic p...</td>\n",
       "      <td>3.0</td>\n",
       "      <td>3.0</td>\n",
       "      <td>3.0</td>\n",
       "      <td>3.0</td>\n",
       "    </tr>\n",
       "    <tr>\n",
       "      <th>2</th>\n",
       "      <td>Single-Use Plastic Waste â Single-use plasti...</td>\n",
       "      <td>Implement Up-Cycling Plastic Programs - Rather...</td>\n",
       "      <td>3.0</td>\n",
       "      <td>3.0</td>\n",
       "      <td>3.0</td>\n",
       "      <td>3.0</td>\n",
       "    </tr>\n",
       "    <tr>\n",
       "      <th>3</th>\n",
       "      <td>The problem I am addressing is the massive amo...</td>\n",
       "      <td>My solution is to promote a \"\"Device as a Serv...</td>\n",
       "      <td>3.0</td>\n",
       "      <td>3.0</td>\n",
       "      <td>3.0</td>\n",
       "      <td>3.0</td>\n",
       "    </tr>\n",
       "    <tr>\n",
       "      <th>4</th>\n",
       "      <td>The vast amount of waste continuously produced...</td>\n",
       "      <td>The enhanced solution presents an integrated, ...</td>\n",
       "      <td>3.0</td>\n",
       "      <td>2.0</td>\n",
       "      <td>3.0</td>\n",
       "      <td>3.0</td>\n",
       "    </tr>\n",
       "    <tr>\n",
       "      <th>...</th>\n",
       "      <td>...</td>\n",
       "      <td>...</td>\n",
       "      <td>...</td>\n",
       "      <td>...</td>\n",
       "      <td>...</td>\n",
       "      <td>...</td>\n",
       "    </tr>\n",
       "    <tr>\n",
       "      <th>95</th>\n",
       "      <td>Single-use plastics are causing significant ha...</td>\n",
       "      <td>I propose an upgrade to the rental/lease model...</td>\n",
       "      <td>3.0</td>\n",
       "      <td>3.0</td>\n",
       "      <td>2.0</td>\n",
       "      <td>3.0</td>\n",
       "    </tr>\n",
       "    <tr>\n",
       "      <th>96</th>\n",
       "      <td>The high energy consumption and environmental ...</td>\n",
       "      <td>The introduction of an Unmanned Aerostat with ...</td>\n",
       "      <td>2.0</td>\n",
       "      <td>3.0</td>\n",
       "      <td>2.0</td>\n",
       "      <td>3.0</td>\n",
       "    </tr>\n",
       "    <tr>\n",
       "      <th>97</th>\n",
       "      <td>The amount of food waste produced by restauran...</td>\n",
       "      <td>A real-time digital platform that allows netwo...</td>\n",
       "      <td>3.0</td>\n",
       "      <td>3.0</td>\n",
       "      <td>3.0</td>\n",
       "      <td>3.0</td>\n",
       "    </tr>\n",
       "    <tr>\n",
       "      <th>98</th>\n",
       "      <td>The fashion industry contributes massively to ...</td>\n",
       "      <td>The \"\"Sustainable Fashion Blockchain Model\"\" c...</td>\n",
       "      <td>3.0</td>\n",
       "      <td>2.0</td>\n",
       "      <td>3.0</td>\n",
       "      <td>3.0</td>\n",
       "    </tr>\n",
       "    <tr>\n",
       "      <th>99</th>\n",
       "      <td>Five trillion plastic bags are produced worldw...</td>\n",
       "      <td>As a partner in a leader company manufacturing...</td>\n",
       "      <td>3.0</td>\n",
       "      <td>2.0</td>\n",
       "      <td>1.0</td>\n",
       "      <td>1.0</td>\n",
       "    </tr>\n",
       "  </tbody>\n",
       "</table>\n",
       "<p>100 rows × 6 columns</p>\n",
       "</div>"
      ],
      "text/plain": [
       "                                              problem  \\\n",
       "0   The production and disposal of electronic devi...   \n",
       "1   Single-use plastic packaging is one of the lar...   \n",
       "2   Single-Use Plastic Waste â Single-use plasti...   \n",
       "3   The problem I am addressing is the massive amo...   \n",
       "4   The vast amount of waste continuously produced...   \n",
       "..                                                ...   \n",
       "95  Single-use plastics are causing significant ha...   \n",
       "96  The high energy consumption and environmental ...   \n",
       "97  The amount of food waste produced by restauran...   \n",
       "98  The fashion industry contributes massively to ...   \n",
       "99  Five trillion plastic bags are produced worldw...   \n",
       "\n",
       "                                             solution  relevance_problem  \\\n",
       "0   A Circular Economy solution to this problem in...                3.0   \n",
       "1   My solution is to replace single-use plastic p...                3.0   \n",
       "2   Implement Up-Cycling Plastic Programs - Rather...                3.0   \n",
       "3   My solution is to promote a \"\"Device as a Serv...                3.0   \n",
       "4   The enhanced solution presents an integrated, ...                3.0   \n",
       "..                                                ...                ...   \n",
       "95  I propose an upgrade to the rental/lease model...                3.0   \n",
       "96  The introduction of an Unmanned Aerostat with ...                2.0   \n",
       "97  A real-time digital platform that allows netwo...                3.0   \n",
       "98  The \"\"Sustainable Fashion Blockchain Model\"\" c...                3.0   \n",
       "99  As a partner in a leader company manufacturing...                3.0   \n",
       "\n",
       "    clarity_problem  suitability_solution  clarity_solution  \n",
       "0               3.0                   3.0               3.0  \n",
       "1               3.0                   3.0               3.0  \n",
       "2               3.0                   3.0               3.0  \n",
       "3               3.0                   3.0               3.0  \n",
       "4               2.0                   3.0               3.0  \n",
       "..              ...                   ...               ...  \n",
       "95              3.0                   2.0               3.0  \n",
       "96              3.0                   2.0               3.0  \n",
       "97              3.0                   3.0               3.0  \n",
       "98              2.0                   3.0               3.0  \n",
       "99              2.0                   1.0               1.0  \n",
       "\n",
       "[100 rows x 6 columns]"
      ]
     },
     "execution_count": 2,
     "metadata": {},
     "output_type": "execute_result"
    }
   ],
   "source": [
    "# Preprocess df\n",
    "df = pd.read_csv('../data/train_data_labeled.csv')[['problem', 'solution', 'relevance_problem', 'clarity_problem', 'suitability_solution', 'clarity_solution']]\n",
    "df = df.iloc[:100, :]\n",
    "df"
   ]
  },
  {
   "cell_type": "code",
   "execution_count": 3,
   "metadata": {},
   "outputs": [
    {
     "data": {
      "text/plain": [
       "{'problem': 'The production and disposal of electronic devices or e-waste pose severe environmental consequences due to the release of harmful substances and the exhaustion of natural resources. Furthermore, the current model of electronic device consumption is linear â\\x80\\x93 where the consumers buy, use, and discard - creating a massive burden of e-waste that is harmful to the environment and also represents a missed business opportunity.  ',\n",
       " 'solution': \"A Circular Economy solution to this problem involves developing a cloud-based service model for electronic devices, similar to the concept of cloud computing. Companies can provide the processing power, storage, software, and other functionalities of electronic devices as a cloud-based service. Users would lease these services on a subscription basis for a limited period, which eliminates the need for physical ownership of devices.  The infrastructure hosting these services would be built with energy-efficient and sustainable technologies to minimize environmental impact. Further, they would be designed for easy upgradeability, limiting the need for creating new hardware and thereby reducing e-waste. This business model is highly feasible due to the rise in cloud computing and the Internet of Things (IoT).  The financial impact of this solution is significant as it opens up new revenue streams for businesses while also reducing the costs associated with manufacturing, shipping, and handling e-wastes. This solution is also highly scalable, as any industry that relies on electronic devices could transition to such a cloud-based service model. The users need not worry about device maintenance, upgrades, or obsolescence as these will be dealt with at the service provider's backend. Thus, this solution significantly reduces e-waste, promotes sustainability, and provides an innovative and financially feasible business model.\",\n",
       " 'relevance_problem': 3.0,\n",
       " 'clarity_problem': 3.0,\n",
       " 'suitability_solution': 3.0,\n",
       " 'clarity_solution': 3.0}"
      ]
     },
     "execution_count": 3,
     "metadata": {},
     "output_type": "execute_result"
    }
   ],
   "source": [
    "# Save labeled train data as json\n",
    "json_filepath = '../data/json/train_data_labeled.json'\n",
    "df_json = df.to_json(json_filepath, orient='records', indent=4)\n",
    "\n",
    "# Load json and show as list of dicts\n",
    "with open(json_filepath) as f:\n",
    "    df_dict = json.load(f)\n",
    "\n",
    "df_dict[0]"
   ]
  },
  {
   "cell_type": "code",
   "execution_count": 4,
   "metadata": {},
   "outputs": [],
   "source": [
    "# Separate key-value pairs into two lists of dicts: \n",
    "# prompt (problem, solution) and response (relevance_problem, clarity_problem, suitability_solution, clarity_solution\n",
    "df_dict_prompt = [{k: v for k, v in d.items() if k in ['problem', 'solution']} for d in df_dict]\n",
    "df_dict_response = [{k: v for k, v in d.items() if k in ['relevance_problem', 'clarity_problem', 'suitability_solution', 'clarity_solution']} for d in df_dict]"
   ]
  },
  {
   "cell_type": "code",
   "execution_count": 5,
   "metadata": {},
   "outputs": [
    {
     "data": {
      "text/plain": [
       "{'problem': 'The production and disposal of electronic devices or e-waste pose severe environmental consequences due to the release of harmful substances and the exhaustion of natural resources. Furthermore, the current model of electronic device consumption is linear â\\x80\\x93 where the consumers buy, use, and discard - creating a massive burden of e-waste that is harmful to the environment and also represents a missed business opportunity.  ',\n",
       " 'solution': \"A Circular Economy solution to this problem involves developing a cloud-based service model for electronic devices, similar to the concept of cloud computing. Companies can provide the processing power, storage, software, and other functionalities of electronic devices as a cloud-based service. Users would lease these services on a subscription basis for a limited period, which eliminates the need for physical ownership of devices.  The infrastructure hosting these services would be built with energy-efficient and sustainable technologies to minimize environmental impact. Further, they would be designed for easy upgradeability, limiting the need for creating new hardware and thereby reducing e-waste. This business model is highly feasible due to the rise in cloud computing and the Internet of Things (IoT).  The financial impact of this solution is significant as it opens up new revenue streams for businesses while also reducing the costs associated with manufacturing, shipping, and handling e-wastes. This solution is also highly scalable, as any industry that relies on electronic devices could transition to such a cloud-based service model. The users need not worry about device maintenance, upgrades, or obsolescence as these will be dealt with at the service provider's backend. Thus, this solution significantly reduces e-waste, promotes sustainability, and provides an innovative and financially feasible business model.\"}"
      ]
     },
     "execution_count": 5,
     "metadata": {},
     "output_type": "execute_result"
    }
   ],
   "source": [
    "df_dict_prompt[0]"
   ]
  },
  {
   "cell_type": "code",
   "execution_count": 6,
   "metadata": {},
   "outputs": [
    {
     "data": {
      "text/plain": [
       "{'relevance_problem': 3.0,\n",
       " 'clarity_problem': 3.0,\n",
       " 'suitability_solution': 3.0,\n",
       " 'clarity_solution': 3.0}"
      ]
     },
     "execution_count": 6,
     "metadata": {},
     "output_type": "execute_result"
    }
   ],
   "source": [
    "df_dict_response[0]"
   ]
  },
  {
   "cell_type": "markdown",
   "metadata": {},
   "source": [
    "# Format train data into training examples for fine-tuning"
   ]
  },
  {
   "cell_type": "code",
   "execution_count": 7,
   "metadata": {},
   "outputs": [],
   "source": [
    "# Define system content\n",
    "system_content = \"You are a venture capital expert evaluating potential circular economy startup pitches. \\\n",
    "Mark the startup idea (problem and solution) \\\n",
    "from 1 to 3 in integer numbers (where 1 is bad, 2 is okay, and 3 is good) \\\n",
    "in each of four criteria: \\\n",
    "relevance of the problem to the circular economy (relevance_problem), \\\n",
    "clarity of the problem (clarity_problem), \\\n",
    "suitability of solution to the problem (suitability_solution) and \\\n",
    "clarity of the solution (clarity_solution). \\\n",
    "Return the following fields in a JSON dict: \\\n",
    "'relevance_problem', 'clarity_problem', 'suitability_solution' and 'clarity_solution'.\""
   ]
  },
  {
   "cell_type": "code",
   "execution_count": 8,
   "metadata": {},
   "outputs": [],
   "source": [
    "def generate_example(system_content, user_content, assistant_content):\n",
    "    # Generate prompts  \n",
    "    system_dict = {\"role\": \"system\", \"content\": system_content} # system prompt\n",
    "    user_dict = {\"role\": \"user\", \"content\": str(user_content)} # user prompt\n",
    "    assistant_dict = {\"role\": \"assistant\", \"content\": str(assistant_content)} # assistant prompt\n",
    "\n",
    "    # Combine to generate training/validation example\n",
    "    example = {\"messages\": [system_dict, user_dict, assistant_dict]}\n",
    "\n",
    "    return example"
   ]
  },
  {
   "cell_type": "code",
   "execution_count": 9,
   "metadata": {},
   "outputs": [
    {
     "data": {
      "text/plain": [
       "{'messages': [{'role': 'system',\n",
       "   'content': \"You are a venture capital expert evaluating potential circular economy startup pitches. Mark the startup idea (problem and solution) from 1 to 3 in integer numbers (where 1 is bad, 2 is okay, and 3 is good) in each of four criteria: relevance of the problem to the circular economy (relevance_problem), clarity of the problem (clarity_problem), suitability of solution to the problem (suitability_solution) and clarity of the solution (clarity_solution). Return the following fields in a JSON dict: 'relevance_problem', 'clarity_problem', 'suitability_solution' and 'clarity_solution'.\"},\n",
       "  {'role': 'user',\n",
       "   'content': '{\\'problem\\': \\'The production and disposal of electronic devices or e-waste pose severe environmental consequences due to the release of harmful substances and the exhaustion of natural resources. Furthermore, the current model of electronic device consumption is linear â\\\\x80\\\\x93 where the consumers buy, use, and discard - creating a massive burden of e-waste that is harmful to the environment and also represents a missed business opportunity.  \\', \\'solution\\': \"A Circular Economy solution to this problem involves developing a cloud-based service model for electronic devices, similar to the concept of cloud computing. Companies can provide the processing power, storage, software, and other functionalities of electronic devices as a cloud-based service. Users would lease these services on a subscription basis for a limited period, which eliminates the need for physical ownership of devices.  The infrastructure hosting these services would be built with energy-efficient and sustainable technologies to minimize environmental impact. Further, they would be designed for easy upgradeability, limiting the need for creating new hardware and thereby reducing e-waste. This business model is highly feasible due to the rise in cloud computing and the Internet of Things (IoT).  The financial impact of this solution is significant as it opens up new revenue streams for businesses while also reducing the costs associated with manufacturing, shipping, and handling e-wastes. This solution is also highly scalable, as any industry that relies on electronic devices could transition to such a cloud-based service model. The users need not worry about device maintenance, upgrades, or obsolescence as these will be dealt with at the service provider\\'s backend. Thus, this solution significantly reduces e-waste, promotes sustainability, and provides an innovative and financially feasible business model.\"}'},\n",
       "  {'role': 'assistant',\n",
       "   'content': \"{'relevance_problem': 3.0, 'clarity_problem': 3.0, 'suitability_solution': 3.0, 'clarity_solution': 3.0}\"}]}"
      ]
     },
     "execution_count": 9,
     "metadata": {},
     "output_type": "execute_result"
    }
   ],
   "source": [
    "# Generate training/validation examples\n",
    "examples = [generate_example(system_content, user_content, assistant_content) for user_content, assistant_content in zip(df_dict_prompt, df_dict_response)]\n",
    "\n",
    "# Save as json\n",
    "examples_filepath = '../data/json/train_examples.jsonl'\n",
    "with open(examples_filepath, 'w') as f:\n",
    "    for example in examples:\n",
    "        json.dump(example, f)\n",
    "        f.write('\\n')\n",
    "\n",
    "examples[0]"
   ]
  },
  {
   "cell_type": "code",
   "execution_count": null,
   "metadata": {},
   "outputs": [],
   "source": []
  }
 ],
 "metadata": {
  "kernelspec": {
   "display_name": "Python 3",
   "language": "python",
   "name": "python3"
  },
  "language_info": {
   "codemirror_mode": {
    "name": "ipython",
    "version": 3
   },
   "file_extension": ".py",
   "mimetype": "text/x-python",
   "name": "python",
   "nbconvert_exporter": "python",
   "pygments_lexer": "ipython3",
   "version": "3.11.4"
  }
 },
 "nbformat": 4,
 "nbformat_minor": 2
}
